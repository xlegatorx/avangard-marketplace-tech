{
 "cells": [
  {
   "cell_type": "markdown",
   "id": "c527fe56",
   "metadata": {},
   "source": [
    "### Техническое задание"
   ]
  },
  {
   "cell_type": "markdown",
   "id": "b2aaad7d",
   "metadata": {},
   "source": [
    "Выполнение тестового задания для ООО Авангард на вакансию дата аналитик \n",
    "\n",
    "**Задание 1**\n",
    "\n",
    " а) Какие подгруппы товаров наиболее часто покупают за все время продаж (минимум 4 группы)?\n",
    " \n",
    " б) Какие подгруппы товаров наиболее часто покупают за последние два года (минимум 4 группы)?\n",
    " \n",
    " в) Какие подгруппы товаров наиболее часто покупают за последний год(минимум 4 группы)?\n",
    "\n",
    " Подгруппа – Sub-Category\n",
    " Дата – Order_date\n",
    " Сделать вывод на основе полученных результатов.\n",
    "\n",
    " **Задание 2**\n",
    " Построить boxplot («Ящик с усами») на основе продаж (Sales). Найти мажоритарную черту (т.е. избавиться от аномалий и представить четкую картину распределения величин).\n",
    " Можно использовать правило трех сигм. Однако любые другие решения приветствуются.\n",
    "\n",
    " **Задание 3**\n",
    " Для этого задания необходимо разбить все покупки на энное количество групп “Sale_group” (Допустим маленькие продажи, средние и высокие) на основе Sales\n",
    "Сгруппировать данные на основе региона и группы продаж (Region, Sale_group). Определить основные тенденции и паттерны. Выделить наиболее «прибыльную» группу.\n",
    "\n",
    " Замечания: Работу лучше выполнить в jupyter и там же написать выводы по каждому заданию. После выполнения загрузите код на github."
   ]
  },
  {
   "cell_type": "markdown",
   "id": "d22cb2f0",
   "metadata": {},
   "source": [
    "### Импорт библиотек и онбординг"
   ]
  },
  {
   "cell_type": "code",
   "execution_count": 199,
   "id": "f66c0cf0",
   "metadata": {},
   "outputs": [],
   "source": [
    "import pandas as pd\n",
    "from datetime import datetime\n",
    "import seaborn as sns\n",
    "import matplotlib.pyplot as plt\n",
    "import plotly.express as px"
   ]
  },
  {
   "cell_type": "code",
   "execution_count": 50,
   "id": "7658cfa8",
   "metadata": {},
   "outputs": [],
   "source": [
    "url = 'https://docs.google.com/spreadsheets/d/1DkdhWMrVjtflQfmCIKl8hCjSlIxph1L42_fgyFo0QPs/export?format=csv&gid=1477722452'"
   ]
  },
  {
   "cell_type": "code",
   "execution_count": 51,
   "id": "516fb9b5",
   "metadata": {
    "scrolled": true
   },
   "outputs": [],
   "source": [
    "df = pd.read_csv(url)"
   ]
  },
  {
   "cell_type": "code",
   "execution_count": 52,
   "id": "996b3300",
   "metadata": {},
   "outputs": [],
   "source": [
    "def total_info(data):\n",
    "    print('Ознакомление с датафреймом')\n",
    "    print('')\n",
    "    \n",
    "    \n",
    "    display(data.head())\n",
    "    print('Получены первые 5 строк датафрейма')\n",
    "    print('')\n",
    "    \n",
    "    size = 'Общее количество столбцов в датафрейме: {cols} Количество строк в датафрейме {rows}'\n",
    "    size = size.format(cols = data.shape[1], rows = data.shape[0])\n",
    "    print(size)\n",
    "    print('')\n",
    "    \n",
    "    print(data.info())\n",
    "    print('Получена основная информация о датафрейме')\n",
    "    print('')\n",
    "    \n",
    "    missing_counts = data.isnull().sum()\n",
    "    missing_percentage = round((data.isnull().sum() / len(data)) * 100,2)\n",
    "    result_df = pd.DataFrame({'Количество пропусков': missing_counts, 'Процент пропусков': missing_percentage})\n",
    "    result_df.index.name = 'Название столбца'\n",
    "    result_df = result_df[result_df['Количество пропусков'] > 0]\n",
    "    print('Датафрейм со столбцами, содержащими пропуски:')\n",
    "    display(result_df.reset_index())\n",
    "    print('')\n",
    "    \n",
    "    duplicated = 'Количество полностью дублирующихся строк: {duplicate} \\nВ процентах {percent}'\n",
    "    duplicated = duplicated.format(duplicate = data.duplicated().sum(),\\\n",
    "                                   percent = round(data.duplicated().sum() / data.shape[0] * 100,3))\n",
    "    print(duplicated)"
   ]
  },
  {
   "cell_type": "code",
   "execution_count": 53,
   "id": "4ed25052",
   "metadata": {},
   "outputs": [
    {
     "name": "stdout",
     "output_type": "stream",
     "text": [
      "Ознакомление с датафреймом\n",
      "\n"
     ]
    },
    {
     "data": {
      "text/html": [
       "<div>\n",
       "<style scoped>\n",
       "    .dataframe tbody tr th:only-of-type {\n",
       "        vertical-align: middle;\n",
       "    }\n",
       "\n",
       "    .dataframe tbody tr th {\n",
       "        vertical-align: top;\n",
       "    }\n",
       "\n",
       "    .dataframe thead th {\n",
       "        text-align: right;\n",
       "    }\n",
       "</style>\n",
       "<table border=\"1\" class=\"dataframe\">\n",
       "  <thead>\n",
       "    <tr style=\"text-align: right;\">\n",
       "      <th></th>\n",
       "      <th>ID</th>\n",
       "      <th>Order Date</th>\n",
       "      <th>Class</th>\n",
       "      <th>Region</th>\n",
       "      <th>Sub-Category</th>\n",
       "      <th>Sales</th>\n",
       "    </tr>\n",
       "  </thead>\n",
       "  <tbody>\n",
       "    <tr>\n",
       "      <th>0</th>\n",
       "      <td>646</td>\n",
       "      <td>30/12/2018</td>\n",
       "      <td>Стандарт</td>\n",
       "      <td>Урал</td>\n",
       "      <td>Appliances</td>\n",
       "      <td>37229,08</td>\n",
       "    </tr>\n",
       "    <tr>\n",
       "      <th>1</th>\n",
       "      <td>907</td>\n",
       "      <td>30/12/2018</td>\n",
       "      <td>Стандарт</td>\n",
       "      <td>Владивосток</td>\n",
       "      <td>Bookcases</td>\n",
       "      <td>20994,61</td>\n",
       "    </tr>\n",
       "    <tr>\n",
       "      <th>2</th>\n",
       "      <td>908</td>\n",
       "      <td>30/12/2018</td>\n",
       "      <td>Стандарт</td>\n",
       "      <td>Владивосток</td>\n",
       "      <td>Phones</td>\n",
       "      <td>42133,86</td>\n",
       "    </tr>\n",
       "    <tr>\n",
       "      <th>3</th>\n",
       "      <td>909</td>\n",
       "      <td>30/12/2018</td>\n",
       "      <td>Стандарт</td>\n",
       "      <td>Владивосток</td>\n",
       "      <td>Binders</td>\n",
       "      <td>10612</td>\n",
       "    </tr>\n",
       "    <tr>\n",
       "      <th>4</th>\n",
       "      <td>1297</td>\n",
       "      <td>30/12/2018</td>\n",
       "      <td>Стандарт</td>\n",
       "      <td>Калиниград</td>\n",
       "      <td>Binders</td>\n",
       "      <td>28781,13</td>\n",
       "    </tr>\n",
       "  </tbody>\n",
       "</table>\n",
       "</div>"
      ],
      "text/plain": [
       "     ID  Order Date     Class       Region Sub-Category     Sales\n",
       "0   646  30/12/2018  Стандарт         Урал   Appliances  37229,08\n",
       "1   907  30/12/2018  Стандарт  Владивосток    Bookcases  20994,61\n",
       "2   908  30/12/2018  Стандарт  Владивосток       Phones  42133,86\n",
       "3   909  30/12/2018  Стандарт  Владивосток      Binders     10612\n",
       "4  1297  30/12/2018  Стандарт   Калиниград      Binders  28781,13"
      ]
     },
     "metadata": {},
     "output_type": "display_data"
    },
    {
     "name": "stdout",
     "output_type": "stream",
     "text": [
      "Получены первые 5 строк датафрейма\n",
      "\n",
      "Общее количество столбцов в датафрейме: 6 Количество строк в датафрейме 9800\n",
      "\n",
      "<class 'pandas.core.frame.DataFrame'>\n",
      "RangeIndex: 9800 entries, 0 to 9799\n",
      "Data columns (total 6 columns):\n",
      " #   Column        Non-Null Count  Dtype \n",
      "---  ------        --------------  ----- \n",
      " 0   ID            9800 non-null   int64 \n",
      " 1   Order Date    9800 non-null   object\n",
      " 2   Class         9800 non-null   object\n",
      " 3   Region        9800 non-null   object\n",
      " 4   Sub-Category  9800 non-null   object\n",
      " 5   Sales         9800 non-null   object\n",
      "dtypes: int64(1), object(5)\n",
      "memory usage: 459.5+ KB\n",
      "None\n",
      "Получена основная информация о датафрейме\n",
      "\n",
      "Датафрейм со столбцами, содержащими пропуски:\n"
     ]
    },
    {
     "data": {
      "text/html": [
       "<div>\n",
       "<style scoped>\n",
       "    .dataframe tbody tr th:only-of-type {\n",
       "        vertical-align: middle;\n",
       "    }\n",
       "\n",
       "    .dataframe tbody tr th {\n",
       "        vertical-align: top;\n",
       "    }\n",
       "\n",
       "    .dataframe thead th {\n",
       "        text-align: right;\n",
       "    }\n",
       "</style>\n",
       "<table border=\"1\" class=\"dataframe\">\n",
       "  <thead>\n",
       "    <tr style=\"text-align: right;\">\n",
       "      <th></th>\n",
       "      <th>Название столбца</th>\n",
       "      <th>Количество пропусков</th>\n",
       "      <th>Процент пропусков</th>\n",
       "    </tr>\n",
       "  </thead>\n",
       "  <tbody>\n",
       "  </tbody>\n",
       "</table>\n",
       "</div>"
      ],
      "text/plain": [
       "Empty DataFrame\n",
       "Columns: [Название столбца, Количество пропусков, Процент пропусков]\n",
       "Index: []"
      ]
     },
     "metadata": {},
     "output_type": "display_data"
    },
    {
     "name": "stdout",
     "output_type": "stream",
     "text": [
      "\n",
      "Количество полностью дублирующихся строк: 0 \n",
      "В процентах 0.0\n"
     ]
    }
   ],
   "source": [
    "total_info(df)"
   ]
  },
  {
   "cell_type": "markdown",
   "id": "2374afc0",
   "metadata": {},
   "source": [
    "После онбординга с датафреймом выявлено:\n",
    "    \n",
    "    - Датасет включает 9800 строк и 6 столбцов\n",
    "    - Названия столбцов не приведены к змеиному регистру\n",
    "    - Тип данных некоторых столбцов несоответствует хранящимся в нем данным\n",
    "    - В датасете нет пропущенных значений или явных дубликатов"
   ]
  },
  {
   "cell_type": "markdown",
   "id": "90d28e64",
   "metadata": {},
   "source": [
    "### Предобработка данных"
   ]
  },
  {
   "cell_type": "markdown",
   "id": "9ddcd7f2",
   "metadata": {},
   "source": [
    "#### Ренейм столбцов"
   ]
  },
  {
   "cell_type": "code",
   "execution_count": 55,
   "id": "4015e778",
   "metadata": {},
   "outputs": [
    {
     "data": {
      "text/plain": [
       "Index(['ID', 'Order Date', 'Class', 'Region', 'Sub-Category', 'Sales'], dtype='object', name='Название столбца')"
      ]
     },
     "execution_count": 55,
     "metadata": {},
     "output_type": "execute_result"
    }
   ],
   "source": [
    "df.columns"
   ]
  },
  {
   "cell_type": "code",
   "execution_count": 56,
   "id": "aa6df560",
   "metadata": {},
   "outputs": [],
   "source": [
    "df = df.rename(columns = {'ID':'id',\n",
    "                          'Order Date': 'order_date', \n",
    "                          'Class' : 'class',\n",
    "                          'Region' : 'region',\n",
    "                          'Sub-Category' : 'sub_category',\n",
    "                          'Sales' : 'sales'})"
   ]
  },
  {
   "cell_type": "code",
   "execution_count": 57,
   "id": "9d4e803d",
   "metadata": {
    "scrolled": true
   },
   "outputs": [
    {
     "data": {
      "text/html": [
       "<div>\n",
       "<style scoped>\n",
       "    .dataframe tbody tr th:only-of-type {\n",
       "        vertical-align: middle;\n",
       "    }\n",
       "\n",
       "    .dataframe tbody tr th {\n",
       "        vertical-align: top;\n",
       "    }\n",
       "\n",
       "    .dataframe thead th {\n",
       "        text-align: right;\n",
       "    }\n",
       "</style>\n",
       "<table border=\"1\" class=\"dataframe\">\n",
       "  <thead>\n",
       "    <tr style=\"text-align: right;\">\n",
       "      <th>Название столбца</th>\n",
       "      <th>id</th>\n",
       "      <th>order_date</th>\n",
       "      <th>class</th>\n",
       "      <th>region</th>\n",
       "      <th>sub_category</th>\n",
       "      <th>sales</th>\n",
       "    </tr>\n",
       "  </thead>\n",
       "  <tbody>\n",
       "    <tr>\n",
       "      <th>0</th>\n",
       "      <td>646</td>\n",
       "      <td>30/12/2018</td>\n",
       "      <td>Стандарт</td>\n",
       "      <td>Урал</td>\n",
       "      <td>Appliances</td>\n",
       "      <td>37229,08</td>\n",
       "    </tr>\n",
       "    <tr>\n",
       "      <th>1</th>\n",
       "      <td>907</td>\n",
       "      <td>30/12/2018</td>\n",
       "      <td>Стандарт</td>\n",
       "      <td>Владивосток</td>\n",
       "      <td>Bookcases</td>\n",
       "      <td>20994,61</td>\n",
       "    </tr>\n",
       "    <tr>\n",
       "      <th>2</th>\n",
       "      <td>908</td>\n",
       "      <td>30/12/2018</td>\n",
       "      <td>Стандарт</td>\n",
       "      <td>Владивосток</td>\n",
       "      <td>Phones</td>\n",
       "      <td>42133,86</td>\n",
       "    </tr>\n",
       "    <tr>\n",
       "      <th>3</th>\n",
       "      <td>909</td>\n",
       "      <td>30/12/2018</td>\n",
       "      <td>Стандарт</td>\n",
       "      <td>Владивосток</td>\n",
       "      <td>Binders</td>\n",
       "      <td>10612</td>\n",
       "    </tr>\n",
       "    <tr>\n",
       "      <th>4</th>\n",
       "      <td>1297</td>\n",
       "      <td>30/12/2018</td>\n",
       "      <td>Стандарт</td>\n",
       "      <td>Калиниград</td>\n",
       "      <td>Binders</td>\n",
       "      <td>28781,13</td>\n",
       "    </tr>\n",
       "  </tbody>\n",
       "</table>\n",
       "</div>"
      ],
      "text/plain": [
       "Название столбца    id  order_date     class       region sub_category  \\\n",
       "0                  646  30/12/2018  Стандарт         Урал   Appliances   \n",
       "1                  907  30/12/2018  Стандарт  Владивосток    Bookcases   \n",
       "2                  908  30/12/2018  Стандарт  Владивосток       Phones   \n",
       "3                  909  30/12/2018  Стандарт  Владивосток      Binders   \n",
       "4                 1297  30/12/2018  Стандарт   Калиниград      Binders   \n",
       "\n",
       "Название столбца     sales  \n",
       "0                 37229,08  \n",
       "1                 20994,61  \n",
       "2                 42133,86  \n",
       "3                    10612  \n",
       "4                 28781,13  "
      ]
     },
     "execution_count": 57,
     "metadata": {},
     "output_type": "execute_result"
    }
   ],
   "source": [
    "df.head()"
   ]
  },
  {
   "cell_type": "markdown",
   "id": "ce0dccc5",
   "metadata": {},
   "source": [
    "Названия столбцов приобрели змеиный регистр"
   ]
  },
  {
   "cell_type": "markdown",
   "id": "f2a29b4c",
   "metadata": {},
   "source": [
    "#### Коррекция типов данных столбцов и хранящейся в них информации"
   ]
  },
  {
   "cell_type": "code",
   "execution_count": 58,
   "id": "003e05cd",
   "metadata": {
    "scrolled": true
   },
   "outputs": [
    {
     "name": "stdout",
     "output_type": "stream",
     "text": [
      "<class 'pandas.core.frame.DataFrame'>\n",
      "RangeIndex: 9800 entries, 0 to 9799\n",
      "Data columns (total 6 columns):\n",
      " #   Column        Non-Null Count  Dtype \n",
      "---  ------        --------------  ----- \n",
      " 0   id            9800 non-null   int64 \n",
      " 1   order_date    9800 non-null   object\n",
      " 2   class         9800 non-null   object\n",
      " 3   region        9800 non-null   object\n",
      " 4   sub_category  9800 non-null   object\n",
      " 5   sales         9800 non-null   object\n",
      "dtypes: int64(1), object(5)\n",
      "memory usage: 459.5+ KB\n"
     ]
    }
   ],
   "source": [
    "df.info()"
   ]
  },
  {
   "cell_type": "code",
   "execution_count": 63,
   "id": "c3b2abcc",
   "metadata": {},
   "outputs": [],
   "source": [
    "df['order_date'] = pd.to_datetime(df['order_date'], format='%d/%m/%Y')\n",
    "df['sales'] = df['sales'].str.replace(',', '.').astype(float)"
   ]
  },
  {
   "cell_type": "code",
   "execution_count": 65,
   "id": "6c7d19b4",
   "metadata": {
    "scrolled": true
   },
   "outputs": [
    {
     "data": {
      "text/plain": [
       "Название столбца\n",
       "id                       int64\n",
       "order_date      datetime64[ns]\n",
       "class                   object\n",
       "region                  object\n",
       "sub_category            object\n",
       "sales                  float64\n",
       "dtype: object"
      ]
     },
     "execution_count": 65,
     "metadata": {},
     "output_type": "execute_result"
    }
   ],
   "source": [
    "df.dtypes"
   ]
  },
  {
   "cell_type": "markdown",
   "id": "6aef43cc",
   "metadata": {},
   "source": [
    "- Столбец order_date скорректирован и теперь хранит данные типа datetime64\n",
    "- Столбец sales так же изменен со строки на float64"
   ]
  },
  {
   "cell_type": "markdown",
   "id": "23fa626a",
   "metadata": {},
   "source": [
    "#### Проверка на наличие неявных дубликатов"
   ]
  },
  {
   "cell_type": "code",
   "execution_count": 66,
   "id": "37b45944",
   "metadata": {},
   "outputs": [
    {
     "name": "stdout",
     "output_type": "stream",
     "text": [
      "region\n",
      "Калиниград     3140\n",
      "Владивосток    2785\n",
      "Урал           2277\n",
      "Москва         1598\n",
      "Name: count, dtype: int64\n",
      "-----------\n",
      "class\n",
      "Стандарт        5859\n",
      "Второй класс    1902\n",
      "Первый класс    1501\n",
      "Same Day         538\n",
      "Name: count, dtype: int64\n",
      "-----------\n",
      "sub_category\n",
      "Binders        1492\n",
      "Paper          1338\n",
      "Furnishings     931\n",
      "Phones          876\n",
      "Storage         832\n",
      "Art             785\n",
      "Accessories     756\n",
      "Chairs          607\n",
      "Appliances      459\n",
      "Labels          357\n",
      "Tables          314\n",
      "Envelopes       248\n",
      "Bookcases       226\n",
      "Fasteners       214\n",
      "Supplies        184\n",
      "Machines        115\n",
      "Copiers          66\n",
      "Name: count, dtype: int64\n"
     ]
    }
   ],
   "source": [
    "print(df['region'].value_counts())\n",
    "print('-----------')\n",
    "print(df['class'].value_counts())\n",
    "print('-----------')\n",
    "print(df['sub_category'].value_counts())"
   ]
  },
  {
   "cell_type": "markdown",
   "id": "3eec4498",
   "metadata": {},
   "source": [
    "Неявных дубликатов необнаружено"
   ]
  },
  {
   "cell_type": "markdown",
   "id": "969ad88a",
   "metadata": {},
   "source": [
    "#### Резюме предобработки"
   ]
  },
  {
   "cell_type": "markdown",
   "id": "3cc6139f",
   "metadata": {},
   "source": [
    "- Столбцы приведены в змеиный регистр\n",
    "- Изменены типы данных некоторых столбцов\n",
    "- Выполнена перепроверка на наличие неявных дубликатов"
   ]
  },
  {
   "cell_type": "markdown",
   "id": "b9166774",
   "metadata": {},
   "source": [
    "### Анализ данных"
   ]
  },
  {
   "cell_type": "markdown",
   "id": "257d21b9",
   "metadata": {},
   "source": [
    "#### Задание 1"
   ]
  },
  {
   "cell_type": "code",
   "execution_count": 124,
   "id": "1a8b0663",
   "metadata": {},
   "outputs": [
    {
     "data": {
      "text/html": [
       "<div>\n",
       "<style scoped>\n",
       "    .dataframe tbody tr th:only-of-type {\n",
       "        vertical-align: middle;\n",
       "    }\n",
       "\n",
       "    .dataframe tbody tr th {\n",
       "        vertical-align: top;\n",
       "    }\n",
       "\n",
       "    .dataframe thead th {\n",
       "        text-align: right;\n",
       "    }\n",
       "</style>\n",
       "<table border=\"1\" class=\"dataframe\">\n",
       "  <thead>\n",
       "    <tr style=\"text-align: right;\">\n",
       "      <th>Название столбца</th>\n",
       "      <th>id</th>\n",
       "      <th>order_date</th>\n",
       "      <th>class</th>\n",
       "      <th>region</th>\n",
       "      <th>sub_category</th>\n",
       "      <th>sales</th>\n",
       "    </tr>\n",
       "  </thead>\n",
       "  <tbody>\n",
       "    <tr>\n",
       "      <th>5887</th>\n",
       "      <td>471</td>\n",
       "      <td>2016-12-20</td>\n",
       "      <td>Стандарт</td>\n",
       "      <td>Владивосток</td>\n",
       "      <td>Paper</td>\n",
       "      <td>17786.73</td>\n",
       "    </tr>\n",
       "    <tr>\n",
       "      <th>2427</th>\n",
       "      <td>6045</td>\n",
       "      <td>2018-05-19</td>\n",
       "      <td>Второй класс</td>\n",
       "      <td>Москва</td>\n",
       "      <td>Paper</td>\n",
       "      <td>24048.86</td>\n",
       "    </tr>\n",
       "    <tr>\n",
       "      <th>4314</th>\n",
       "      <td>7388</td>\n",
       "      <td>2017-09-13</td>\n",
       "      <td>Стандарт</td>\n",
       "      <td>Урал</td>\n",
       "      <td>Furnishings</td>\n",
       "      <td>44557.04</td>\n",
       "    </tr>\n",
       "    <tr>\n",
       "      <th>3236</th>\n",
       "      <td>4937</td>\n",
       "      <td>2018-01-06</td>\n",
       "      <td>Стандарт</td>\n",
       "      <td>Москва</td>\n",
       "      <td>Binders</td>\n",
       "      <td>33249.43</td>\n",
       "    </tr>\n",
       "    <tr>\n",
       "      <th>4708</th>\n",
       "      <td>3580</td>\n",
       "      <td>2017-07-25</td>\n",
       "      <td>Стандарт</td>\n",
       "      <td>Москва</td>\n",
       "      <td>Paper</td>\n",
       "      <td>22319.52</td>\n",
       "    </tr>\n",
       "  </tbody>\n",
       "</table>\n",
       "</div>"
      ],
      "text/plain": [
       "Название столбца    id order_date         class       region sub_category  \\\n",
       "5887               471 2016-12-20      Стандарт  Владивосток        Paper   \n",
       "2427              6045 2018-05-19  Второй класс       Москва        Paper   \n",
       "4314              7388 2017-09-13      Стандарт         Урал  Furnishings   \n",
       "3236              4937 2018-01-06      Стандарт       Москва      Binders   \n",
       "4708              3580 2017-07-25      Стандарт       Москва        Paper   \n",
       "\n",
       "Название столбца     sales  \n",
       "5887              17786.73  \n",
       "2427              24048.86  \n",
       "4314              44557.04  \n",
       "3236              33249.43  \n",
       "4708              22319.52  "
      ]
     },
     "execution_count": 124,
     "metadata": {},
     "output_type": "execute_result"
    }
   ],
   "source": [
    "df.sample(5)"
   ]
  },
  {
   "cell_type": "markdown",
   "id": "bed735ed",
   "metadata": {},
   "source": [
    "##### Какие подгруппы товаров наиболее часто покупают за все время продаж (минимум 4 группы)?"
   ]
  },
  {
   "cell_type": "code",
   "execution_count": 125,
   "id": "349771f2",
   "metadata": {
    "scrolled": false
   },
   "outputs": [],
   "source": [
    "df_orders = df.groupby('sub_category', as_index = False).agg({'order_date':'count'})\\\n",
    "                                            .sort_values('order_date', ascending = False)\\\n",
    "                                            .rename(columns = {'order_date':'orders_number'})"
   ]
  },
  {
   "cell_type": "code",
   "execution_count": 126,
   "id": "c403fd15",
   "metadata": {},
   "outputs": [
    {
     "data": {
      "text/html": [
       "<div>\n",
       "<style scoped>\n",
       "    .dataframe tbody tr th:only-of-type {\n",
       "        vertical-align: middle;\n",
       "    }\n",
       "\n",
       "    .dataframe tbody tr th {\n",
       "        vertical-align: top;\n",
       "    }\n",
       "\n",
       "    .dataframe thead th {\n",
       "        text-align: right;\n",
       "    }\n",
       "</style>\n",
       "<table border=\"1\" class=\"dataframe\">\n",
       "  <thead>\n",
       "    <tr style=\"text-align: right;\">\n",
       "      <th>Название столбца</th>\n",
       "      <th>sub_category</th>\n",
       "      <th>orders_number</th>\n",
       "    </tr>\n",
       "  </thead>\n",
       "  <tbody>\n",
       "    <tr>\n",
       "      <th>3</th>\n",
       "      <td>Binders</td>\n",
       "      <td>1492</td>\n",
       "    </tr>\n",
       "    <tr>\n",
       "      <th>12</th>\n",
       "      <td>Paper</td>\n",
       "      <td>1338</td>\n",
       "    </tr>\n",
       "    <tr>\n",
       "      <th>9</th>\n",
       "      <td>Furnishings</td>\n",
       "      <td>931</td>\n",
       "    </tr>\n",
       "    <tr>\n",
       "      <th>13</th>\n",
       "      <td>Phones</td>\n",
       "      <td>876</td>\n",
       "    </tr>\n",
       "    <tr>\n",
       "      <th>14</th>\n",
       "      <td>Storage</td>\n",
       "      <td>832</td>\n",
       "    </tr>\n",
       "  </tbody>\n",
       "</table>\n",
       "</div>"
      ],
      "text/plain": [
       "Название столбца sub_category  orders_number\n",
       "3                     Binders           1492\n",
       "12                      Paper           1338\n",
       "9                 Furnishings            931\n",
       "13                     Phones            876\n",
       "14                    Storage            832"
      ]
     },
     "execution_count": 126,
     "metadata": {},
     "output_type": "execute_result"
    }
   ],
   "source": [
    "df_orders.head(5)"
   ]
  },
  {
   "cell_type": "markdown",
   "id": "3288b4f0",
   "metadata": {},
   "source": [
    "Выделены топ 5 субкатегорий с наибольшим количеством заказов за все время"
   ]
  },
  {
   "cell_type": "markdown",
   "id": "f4e3e6e8",
   "metadata": {},
   "source": [
    "#### Какие подгруппы товаров наиболее часто покупают за последние два года (минимум 4 группы)?\n"
   ]
  },
  {
   "cell_type": "code",
   "execution_count": 127,
   "id": "0aee99d1",
   "metadata": {
    "scrolled": true
   },
   "outputs": [
    {
     "data": {
      "text/plain": [
       "Timestamp('2018-12-30 00:00:00')"
      ]
     },
     "execution_count": 127,
     "metadata": {},
     "output_type": "execute_result"
    }
   ],
   "source": [
    "df.order_date.max()"
   ]
  },
  {
   "cell_type": "markdown",
   "id": "268e2303",
   "metadata": {},
   "source": [
    "Последняя дата в исследуемых данных '2018-12-30', чтобы посмотреть какие подгрупны товаров наиболее часто покупали за последние два года нужно исходной датой взять '2016-12-30'"
   ]
  },
  {
   "cell_type": "code",
   "execution_count": 128,
   "id": "7c48a229",
   "metadata": {},
   "outputs": [],
   "source": [
    "df_last_two_years = df.query('order_date > \"2016-12-30\"').groupby('sub_category', as_index = False).agg({'order_date':'count'})\\\n",
    "                                            .sort_values('order_date', ascending = False)\\\n",
    "                                            .rename(columns = {'order_date':'orders_number_last_two_years'})"
   ]
  },
  {
   "cell_type": "code",
   "execution_count": 129,
   "id": "74592baa",
   "metadata": {},
   "outputs": [
    {
     "data": {
      "text/html": [
       "<div>\n",
       "<style scoped>\n",
       "    .dataframe tbody tr th:only-of-type {\n",
       "        vertical-align: middle;\n",
       "    }\n",
       "\n",
       "    .dataframe tbody tr th {\n",
       "        vertical-align: top;\n",
       "    }\n",
       "\n",
       "    .dataframe thead th {\n",
       "        text-align: right;\n",
       "    }\n",
       "</style>\n",
       "<table border=\"1\" class=\"dataframe\">\n",
       "  <thead>\n",
       "    <tr style=\"text-align: right;\">\n",
       "      <th>Название столбца</th>\n",
       "      <th>sub_category</th>\n",
       "      <th>orders_number_last_two_years</th>\n",
       "    </tr>\n",
       "  </thead>\n",
       "  <tbody>\n",
       "    <tr>\n",
       "      <th>3</th>\n",
       "      <td>Binders</td>\n",
       "      <td>907</td>\n",
       "    </tr>\n",
       "    <tr>\n",
       "      <th>12</th>\n",
       "      <td>Paper</td>\n",
       "      <td>809</td>\n",
       "    </tr>\n",
       "    <tr>\n",
       "      <th>9</th>\n",
       "      <td>Furnishings</td>\n",
       "      <td>558</td>\n",
       "    </tr>\n",
       "    <tr>\n",
       "      <th>13</th>\n",
       "      <td>Phones</td>\n",
       "      <td>510</td>\n",
       "    </tr>\n",
       "    <tr>\n",
       "      <th>14</th>\n",
       "      <td>Storage</td>\n",
       "      <td>491</td>\n",
       "    </tr>\n",
       "  </tbody>\n",
       "</table>\n",
       "</div>"
      ],
      "text/plain": [
       "Название столбца sub_category  orders_number_last_two_years\n",
       "3                     Binders                           907\n",
       "12                      Paper                           809\n",
       "9                 Furnishings                           558\n",
       "13                     Phones                           510\n",
       "14                    Storage                           491"
      ]
     },
     "execution_count": 129,
     "metadata": {},
     "output_type": "execute_result"
    }
   ],
   "source": [
    "df_last_two_years.head(5)"
   ]
  },
  {
   "cell_type": "markdown",
   "id": "d762e4c6",
   "metadata": {},
   "source": [
    "Выделены топ 5 субкатегорий с наибольшим количеством заказов за последние 2 года исследуемых данных"
   ]
  },
  {
   "cell_type": "markdown",
   "id": "fc615dac",
   "metadata": {},
   "source": [
    "##### Какие подгруппы товаров наиболее часто покупают за последний год(минимум 4 группы)"
   ]
  },
  {
   "cell_type": "code",
   "execution_count": 130,
   "id": "be970744",
   "metadata": {},
   "outputs": [],
   "source": [
    "df_last_year  = df.query('order_date > \"2017-12-30\"').groupby('sub_category', as_index = False).agg({'order_date':'count'})\\\n",
    "                                            .sort_values('order_date', ascending = False)\\\n",
    "                                            .rename(columns = {'order_date':'orders_number_last_year'})"
   ]
  },
  {
   "cell_type": "code",
   "execution_count": 131,
   "id": "9f27d763",
   "metadata": {},
   "outputs": [
    {
     "data": {
      "text/html": [
       "<div>\n",
       "<style scoped>\n",
       "    .dataframe tbody tr th:only-of-type {\n",
       "        vertical-align: middle;\n",
       "    }\n",
       "\n",
       "    .dataframe tbody tr th {\n",
       "        vertical-align: top;\n",
       "    }\n",
       "\n",
       "    .dataframe thead th {\n",
       "        text-align: right;\n",
       "    }\n",
       "</style>\n",
       "<table border=\"1\" class=\"dataframe\">\n",
       "  <thead>\n",
       "    <tr style=\"text-align: right;\">\n",
       "      <th>Название столбца</th>\n",
       "      <th>sub_category</th>\n",
       "      <th>orders_number_last_year</th>\n",
       "    </tr>\n",
       "  </thead>\n",
       "  <tbody>\n",
       "    <tr>\n",
       "      <th>3</th>\n",
       "      <td>Binders</td>\n",
       "      <td>494</td>\n",
       "    </tr>\n",
       "    <tr>\n",
       "      <th>12</th>\n",
       "      <td>Paper</td>\n",
       "      <td>453</td>\n",
       "    </tr>\n",
       "    <tr>\n",
       "      <th>9</th>\n",
       "      <td>Furnishings</td>\n",
       "      <td>310</td>\n",
       "    </tr>\n",
       "    <tr>\n",
       "      <th>13</th>\n",
       "      <td>Phones</td>\n",
       "      <td>291</td>\n",
       "    </tr>\n",
       "    <tr>\n",
       "      <th>14</th>\n",
       "      <td>Storage</td>\n",
       "      <td>282</td>\n",
       "    </tr>\n",
       "  </tbody>\n",
       "</table>\n",
       "</div>"
      ],
      "text/plain": [
       "Название столбца sub_category  orders_number_last_year\n",
       "3                     Binders                      494\n",
       "12                      Paper                      453\n",
       "9                 Furnishings                      310\n",
       "13                     Phones                      291\n",
       "14                    Storage                      282"
      ]
     },
     "execution_count": 131,
     "metadata": {},
     "output_type": "execute_result"
    }
   ],
   "source": [
    "df_last_year.head(5)"
   ]
  },
  {
   "cell_type": "markdown",
   "id": "0633ab00",
   "metadata": {},
   "source": [
    "Выделены топ 5 субкатегорий с наибольшим количеством заказов за последний год исследуемых данных\n"
   ]
  },
  {
   "cell_type": "markdown",
   "id": "49cac80a",
   "metadata": {},
   "source": [
    "##### Вывод по заданию 1"
   ]
  },
  {
   "cell_type": "markdown",
   "id": "68ae2791",
   "metadata": {},
   "source": [
    "Во всех 3 исследуемых периодах субкатегории с наивысшим числом заказов совпадают, топ 5 всключает в себя: 'Binders', 'Paper', 'Furnishings', 'Phones', 'Storage'"
   ]
  },
  {
   "cell_type": "code",
   "execution_count": 158,
   "id": "4d80afc3",
   "metadata": {},
   "outputs": [],
   "source": [
    "pivot_table = (pd.merge(df_orders, df_last_year, on='sub_category', how='outer')\n",
    "               .merge(df_last_two_years, on='sub_category', how='outer'))"
   ]
  },
  {
   "cell_type": "markdown",
   "id": "543c04c0",
   "metadata": {},
   "source": [
    "Мердж всех 3 датасетов для получения финального датасета"
   ]
  },
  {
   "cell_type": "code",
   "execution_count": 266,
   "id": "3f4622ba",
   "metadata": {
    "scrolled": true
   },
   "outputs": [
    {
     "data": {
      "text/html": [
       "<div>\n",
       "<style scoped>\n",
       "    .dataframe tbody tr th:only-of-type {\n",
       "        vertical-align: middle;\n",
       "    }\n",
       "\n",
       "    .dataframe tbody tr th {\n",
       "        vertical-align: top;\n",
       "    }\n",
       "\n",
       "    .dataframe thead th {\n",
       "        text-align: right;\n",
       "    }\n",
       "</style>\n",
       "<table border=\"1\" class=\"dataframe\">\n",
       "  <thead>\n",
       "    <tr style=\"text-align: right;\">\n",
       "      <th>Название столбца</th>\n",
       "      <th>sub_category</th>\n",
       "      <th>orders_number</th>\n",
       "      <th>orders_number_last_year</th>\n",
       "      <th>orders_number_last_two_years</th>\n",
       "    </tr>\n",
       "  </thead>\n",
       "  <tbody>\n",
       "    <tr>\n",
       "      <th>3</th>\n",
       "      <td>Binders</td>\n",
       "      <td>1492</td>\n",
       "      <td>494</td>\n",
       "      <td>907</td>\n",
       "    </tr>\n",
       "    <tr>\n",
       "      <th>12</th>\n",
       "      <td>Paper</td>\n",
       "      <td>1338</td>\n",
       "      <td>453</td>\n",
       "      <td>809</td>\n",
       "    </tr>\n",
       "    <tr>\n",
       "      <th>9</th>\n",
       "      <td>Furnishings</td>\n",
       "      <td>931</td>\n",
       "      <td>310</td>\n",
       "      <td>558</td>\n",
       "    </tr>\n",
       "    <tr>\n",
       "      <th>13</th>\n",
       "      <td>Phones</td>\n",
       "      <td>876</td>\n",
       "      <td>291</td>\n",
       "      <td>510</td>\n",
       "    </tr>\n",
       "    <tr>\n",
       "      <th>14</th>\n",
       "      <td>Storage</td>\n",
       "      <td>832</td>\n",
       "      <td>282</td>\n",
       "      <td>491</td>\n",
       "    </tr>\n",
       "  </tbody>\n",
       "</table>\n",
       "</div>"
      ],
      "text/plain": [
       "Название столбца sub_category  orders_number  orders_number_last_year  \\\n",
       "3                     Binders           1492                      494   \n",
       "12                      Paper           1338                      453   \n",
       "9                 Furnishings            931                      310   \n",
       "13                     Phones            876                      291   \n",
       "14                    Storage            832                      282   \n",
       "\n",
       "Название столбца  orders_number_last_two_years  \n",
       "3                                          907  \n",
       "12                                         809  \n",
       "9                                          558  \n",
       "13                                         510  \n",
       "14                                         491  "
      ]
     },
     "execution_count": 266,
     "metadata": {},
     "output_type": "execute_result"
    }
   ],
   "source": [
    "sub_categories_of_interest = ['Binders', 'Paper', 'Furnishings', 'Phones', 'Storage']\n",
    "top_5_pivot_table = pivot_table[pivot_table['sub_category'].isin(sub_categories_of_interest)]\n",
    "top_5_pivot_table.sort_values('orders_number',ascending = False)"
   ]
  },
  {
   "cell_type": "code",
   "execution_count": 299,
   "id": "536d6c03",
   "metadata": {
    "scrolled": true
   },
   "outputs": [
    {
     "data": {
      "image/png": "[encoded data removed]",
      "text/plain": [
       "<Figure size 600x600 with 2 Axes>"
      ]
     },
     "metadata": {},
     "output_type": "display_data"
    }
   ],
   "source": [
    "df_heatmap = top_5_pivot_table.set_index('sub_category')\n",
    "plt.figure(figsize=(6, 6))\n",
    "sns.heatmap(df_heatmap, cmap='YlGnBu', annot=True, fmt='g')\n",
    "plt.xlabel('Количество заказов по временным интервалам')\n",
    "plt.ylabel('Подкатегории')\n",
    "plt.title('Тепловая карта заказов по субкатегориям')\n",
    "plt.show()"
   ]
  },
  {
   "cell_type": "markdown",
   "id": "10385f3c",
   "metadata": {},
   "source": [
    "На тепловой карте отмечено количество заказов в разных субкатегориях в разбивке по временным периодам"
   ]
  },
  {
   "cell_type": "markdown",
   "id": "a283dc82",
   "metadata": {},
   "source": [
    "#### Дополнение: какой процент от всех заказов составляют заказы данных топ 5 категорий за все время"
   ]
  },
  {
   "cell_type": "code",
   "execution_count": 163,
   "id": "63dd9fea",
   "metadata": {},
   "outputs": [
    {
     "data": {
      "text/plain": [
       "9800"
      ]
     },
     "execution_count": 163,
     "metadata": {},
     "output_type": "execute_result"
    }
   ],
   "source": [
    "all_orders = df.order_date.count()\n",
    "all_orders"
   ]
  },
  {
   "cell_type": "code",
   "execution_count": 171,
   "id": "f12529eb",
   "metadata": {
    "scrolled": true
   },
   "outputs": [
    {
     "data": {
      "text/html": [
       "<div>\n",
       "<style scoped>\n",
       "    .dataframe tbody tr th:only-of-type {\n",
       "        vertical-align: middle;\n",
       "    }\n",
       "\n",
       "    .dataframe tbody tr th {\n",
       "        vertical-align: top;\n",
       "    }\n",
       "\n",
       "    .dataframe thead th {\n",
       "        text-align: right;\n",
       "    }\n",
       "</style>\n",
       "<table border=\"1\" class=\"dataframe\">\n",
       "  <thead>\n",
       "    <tr style=\"text-align: right;\">\n",
       "      <th>Название столбца</th>\n",
       "      <th>sub_category</th>\n",
       "      <th>orders_number</th>\n",
       "      <th>orders_number_last_year</th>\n",
       "      <th>orders_number_last_two_years</th>\n",
       "      <th>percentage_of_total_orders</th>\n",
       "    </tr>\n",
       "  </thead>\n",
       "  <tbody>\n",
       "    <tr>\n",
       "      <th>3</th>\n",
       "      <td>Binders</td>\n",
       "      <td>1492</td>\n",
       "      <td>494</td>\n",
       "      <td>907</td>\n",
       "      <td>15.22</td>\n",
       "    </tr>\n",
       "    <tr>\n",
       "      <th>9</th>\n",
       "      <td>Furnishings</td>\n",
       "      <td>931</td>\n",
       "      <td>310</td>\n",
       "      <td>558</td>\n",
       "      <td>9.50</td>\n",
       "    </tr>\n",
       "    <tr>\n",
       "      <th>12</th>\n",
       "      <td>Paper</td>\n",
       "      <td>1338</td>\n",
       "      <td>453</td>\n",
       "      <td>809</td>\n",
       "      <td>13.65</td>\n",
       "    </tr>\n",
       "    <tr>\n",
       "      <th>13</th>\n",
       "      <td>Phones</td>\n",
       "      <td>876</td>\n",
       "      <td>291</td>\n",
       "      <td>510</td>\n",
       "      <td>8.94</td>\n",
       "    </tr>\n",
       "    <tr>\n",
       "      <th>14</th>\n",
       "      <td>Storage</td>\n",
       "      <td>832</td>\n",
       "      <td>282</td>\n",
       "      <td>491</td>\n",
       "      <td>8.49</td>\n",
       "    </tr>\n",
       "  </tbody>\n",
       "</table>\n",
       "</div>"
      ],
      "text/plain": [
       "Название столбца sub_category  orders_number  orders_number_last_year  \\\n",
       "3                     Binders           1492                      494   \n",
       "9                 Furnishings            931                      310   \n",
       "12                      Paper           1338                      453   \n",
       "13                     Phones            876                      291   \n",
       "14                    Storage            832                      282   \n",
       "\n",
       "Название столбца  orders_number_last_two_years  percentage_of_total_orders  \n",
       "3                                          907                       15.22  \n",
       "9                                          558                        9.50  \n",
       "12                                         809                       13.65  \n",
       "13                                         510                        8.94  \n",
       "14                                         491                        8.49  "
      ]
     },
     "execution_count": 171,
     "metadata": {},
     "output_type": "execute_result"
    }
   ],
   "source": [
    "df_copy = top_5_pivot_table.copy()\n",
    "\n",
    "df_copy['percentage_of_total_orders'] = df_copy['orders_number'].apply(lambda x:round((x / all_orders) * 100, 2))\n",
    "\n",
    "df_copy"
   ]
  },
  {
   "cell_type": "markdown",
   "id": "35cf582b",
   "metadata": {},
   "source": [
    "Создан столбец с данными, которые являются процентом заказов топ 5 субкатегорий за все время от общего числа заказов "
   ]
  },
  {
   "cell_type": "markdown",
   "id": "4d82b40a",
   "metadata": {},
   "source": [
    "#### Задание 2  Построить boxplot («Ящик с усами») на основе продаж (Sales). Найти мажоритарную черту (т.е. избавиться от аномалий и представить четкую картину распределения величин).\n"
   ]
  },
  {
   "cell_type": "code",
   "execution_count": 173,
   "id": "912c26b1",
   "metadata": {},
   "outputs": [
    {
     "data": {
      "text/plain": [
       "224633225.818"
      ]
     },
     "execution_count": 173,
     "metadata": {},
     "output_type": "execute_result"
    }
   ],
   "source": [
    "all_sales = df.sales.sum()\n",
    "all_sales"
   ]
  },
  {
   "cell_type": "code",
   "execution_count": 191,
   "id": "83e54a3f",
   "metadata": {},
   "outputs": [
    {
     "data": {
      "text/html": [
       "<div>\n",
       "<style scoped>\n",
       "    .dataframe tbody tr th:only-of-type {\n",
       "        vertical-align: middle;\n",
       "    }\n",
       "\n",
       "    .dataframe tbody tr th {\n",
       "        vertical-align: top;\n",
       "    }\n",
       "\n",
       "    .dataframe thead th {\n",
       "        text-align: right;\n",
       "    }\n",
       "</style>\n",
       "<table border=\"1\" class=\"dataframe\">\n",
       "  <thead>\n",
       "    <tr style=\"text-align: right;\">\n",
       "      <th>Название столбца</th>\n",
       "      <th>id</th>\n",
       "      <th>order_date</th>\n",
       "      <th>sales</th>\n",
       "    </tr>\n",
       "  </thead>\n",
       "  <tbody>\n",
       "    <tr>\n",
       "      <th>count</th>\n",
       "      <td>9800.000000</td>\n",
       "      <td>9800</td>\n",
       "      <td>9800.000000</td>\n",
       "    </tr>\n",
       "    <tr>\n",
       "      <th>mean</th>\n",
       "      <td>4900.500000</td>\n",
       "      <td>2017-05-01 05:13:51.673469184</td>\n",
       "      <td>22921.757737</td>\n",
       "    </tr>\n",
       "    <tr>\n",
       "      <th>min</th>\n",
       "      <td>1.000000</td>\n",
       "      <td>2015-01-03 00:00:00</td>\n",
       "      <td>1002.794000</td>\n",
       "    </tr>\n",
       "    <tr>\n",
       "      <th>25%</th>\n",
       "      <td>2450.750000</td>\n",
       "      <td>2016-05-24 00:00:00</td>\n",
       "      <td>12135.625000</td>\n",
       "    </tr>\n",
       "    <tr>\n",
       "      <th>50%</th>\n",
       "      <td>4900.500000</td>\n",
       "      <td>2017-06-26 00:00:00</td>\n",
       "      <td>22882.060000</td>\n",
       "    </tr>\n",
       "    <tr>\n",
       "      <th>75%</th>\n",
       "      <td>7350.250000</td>\n",
       "      <td>2018-05-15 00:00:00</td>\n",
       "      <td>33730.130000</td>\n",
       "    </tr>\n",
       "    <tr>\n",
       "      <th>max</th>\n",
       "      <td>9800.000000</td>\n",
       "      <td>2018-12-30 00:00:00</td>\n",
       "      <td>44995.410000</td>\n",
       "    </tr>\n",
       "    <tr>\n",
       "      <th>std</th>\n",
       "      <td>2829.160653</td>\n",
       "      <td>NaN</td>\n",
       "      <td>12601.999815</td>\n",
       "    </tr>\n",
       "  </tbody>\n",
       "</table>\n",
       "</div>"
      ],
      "text/plain": [
       "Название столбца           id                     order_date         sales\n",
       "count             9800.000000                           9800   9800.000000\n",
       "mean              4900.500000  2017-05-01 05:13:51.673469184  22921.757737\n",
       "min                  1.000000            2015-01-03 00:00:00   1002.794000\n",
       "25%               2450.750000            2016-05-24 00:00:00  12135.625000\n",
       "50%               4900.500000            2017-06-26 00:00:00  22882.060000\n",
       "75%               7350.250000            2018-05-15 00:00:00  33730.130000\n",
       "max               9800.000000            2018-12-30 00:00:00  44995.410000\n",
       "std               2829.160653                            NaN  12601.999815"
      ]
     },
     "execution_count": 191,
     "metadata": {},
     "output_type": "execute_result"
    }
   ],
   "source": [
    "df.describe()"
   ]
  },
  {
   "cell_type": "code",
   "execution_count": 212,
   "id": "0e2ce218",
   "metadata": {
    "scrolled": true
   },
   "outputs": [
    {
     "data": {
      "image/png": "[encoded data removed]",
      "text/plain": [
       "<Figure size 640x480 with 1 Axes>"
      ]
     },
     "metadata": {},
     "output_type": "display_data"
    }
   ],
   "source": [
    "sns.boxplot(data=df, y='sales', color='darkgreen', width=0.5)\n",
    "\n",
    "plt.xlabel('Размах', fontsize=7)\n",
    "plt.ylabel('Сумма', fontsize=7)\n",
    "plt.title('Диаграмма размаха на основе продаж', fontsize=10, weight='bold')\n",
    "plt.xticks(rotation=90, fontsize=10)\n",
    "plt.grid(True, linestyle='--', alpha=0.7)\n",
    "\n",
    "plt.show()\n"
   ]
  },
  {
   "cell_type": "markdown",
   "id": "5541392c",
   "metadata": {},
   "source": [
    "На данной диаграме размаха визуализируется:\n",
    "- Медианное значение (наиболее частровстречающееся) суммы заказа является 22882 руб\n",
    "    \n",
    "- Межквартильный размах составляет от 12135 до 33730 руб - диапазон сумм заказов, с которыми были совершены наибольшее число заказов \n",
    "    \n",
    "- Заказ с максимальной суммой 44995 руб, с минимальной - 1002\n",
    "    \n",
    "- Значения которые выходят за 1.5 межквартильных размаха считаются выбросами (аномальными заказами по сумме продаж). **На данном графике отсутствуют**\n",
    "    "
   ]
  },
  {
   "cell_type": "code",
   "execution_count": 217,
   "id": "63e59433",
   "metadata": {},
   "outputs": [],
   "source": [
    "mean = df['sales'].mean()\n",
    "std_dev = df['sales'].std()"
   ]
  },
  {
   "cell_type": "code",
   "execution_count": 234,
   "id": "b74aa53a",
   "metadata": {
    "scrolled": true
   },
   "outputs": [
    {
     "name": "stdout",
     "output_type": "stream",
     "text": [
      "Нижняя граница (3 сигмы): -14884.241709201222\n",
      "Верхняя граница (3 сигмы): 60727.757182262445\n"
     ]
    }
   ],
   "source": [
    "lower_bound_ = mean - 3 * std_dev\n",
    "upper_bound_ = mean + 3 * std_dev\n",
    "\n",
    "print(f\"Нижняя граница (3 сигмы): {lower_bound_}\")\n",
    "print(f\"Верхняя граница (3 сигмы): {upper_bound_}\")"
   ]
  },
  {
   "cell_type": "markdown",
   "id": "7fe85609",
   "metadata": {},
   "source": [
    "Если данные в колонке sales находятся за пределами этих границ, это может указывать на наличие значительных выбросов или аномалий. Такие выбросы могут быть результатом ошибок в данных, редких событий или особых условий, которые требуют дальнейшего анализа."
   ]
  },
  {
   "cell_type": "markdown",
   "id": "295f6dc0",
   "metadata": {},
   "source": [
    "В данных отсутсвуют выбросы и аномалии, это подтверждено\n",
    "- методом describe\n",
    "- построением диаграммы размаха с отсутствием выбросов\n",
    "- правилом 3 сигм с нахождением диапазона \"нормальности\""
   ]
  },
  {
   "cell_type": "markdown",
   "id": "ed8f53ef",
   "metadata": {},
   "source": [
    "#### Задание 3"
   ]
  },
  {
   "cell_type": "markdown",
   "id": "70e076a1",
   "metadata": {},
   "source": [
    "##### Категоризация заказов по сумме"
   ]
  },
  {
   "cell_type": "markdown",
   "id": "0dede051",
   "metadata": {},
   "source": [
    "На основании отсутсвия аномальных сумм заказов, логично будет разделить заказы по перцентилям"
   ]
  },
  {
   "cell_type": "code",
   "execution_count": 235,
   "id": "5af4d8b5",
   "metadata": {},
   "outputs": [],
   "source": [
    "df['sale_group'] = pd.qcut(df['sales'], q=4, labels=['Q1', 'Q2', 'Q3', 'Q4'])"
   ]
  },
  {
   "cell_type": "code",
   "execution_count": 267,
   "id": "3824a3e0",
   "metadata": {},
   "outputs": [],
   "source": [
    "category_labels = {\n",
    "    'Q1': 'Low Value',\n",
    "    'Q2': 'Medium-Low Value',\n",
    "    'Q3': 'Medium-High Value',\n",
    "    'Q4': 'High Value'\n",
    "}\n",
    "\n",
    "df['sale_group'] = df['sale_group'].replace(category_labels)"
   ]
  },
  {
   "cell_type": "code",
   "execution_count": 237,
   "id": "d331f592",
   "metadata": {
    "scrolled": false
   },
   "outputs": [
    {
     "data": {
      "text/plain": [
       "order_category\n",
       "Low Value            2450\n",
       "Medium-Low Value     2450\n",
       "Medium-High Value    2450\n",
       "High Value           2450\n",
       "Name: count, dtype: int64"
      ]
     },
     "execution_count": 237,
     "metadata": {},
     "output_type": "execute_result"
    }
   ],
   "source": [
    "df.order_category.value_counts()"
   ]
  },
  {
   "cell_type": "code",
   "execution_count": 238,
   "id": "aaadd2e7",
   "metadata": {},
   "outputs": [
    {
     "data": {
      "text/html": [
       "<div>\n",
       "<style scoped>\n",
       "    .dataframe tbody tr th:only-of-type {\n",
       "        vertical-align: middle;\n",
       "    }\n",
       "\n",
       "    .dataframe tbody tr th {\n",
       "        vertical-align: top;\n",
       "    }\n",
       "\n",
       "    .dataframe thead th {\n",
       "        text-align: right;\n",
       "    }\n",
       "</style>\n",
       "<table border=\"1\" class=\"dataframe\">\n",
       "  <thead>\n",
       "    <tr style=\"text-align: right;\">\n",
       "      <th>Название столбца</th>\n",
       "      <th>id</th>\n",
       "      <th>order_date</th>\n",
       "      <th>class</th>\n",
       "      <th>region</th>\n",
       "      <th>sub_category</th>\n",
       "      <th>sales</th>\n",
       "      <th>order_category</th>\n",
       "      <th>sale_group</th>\n",
       "    </tr>\n",
       "  </thead>\n",
       "  <tbody>\n",
       "    <tr>\n",
       "      <th>2406</th>\n",
       "      <td>6907</td>\n",
       "      <td>2018-05-20</td>\n",
       "      <td>Same Day</td>\n",
       "      <td>Урал</td>\n",
       "      <td>Binders</td>\n",
       "      <td>10437.660</td>\n",
       "      <td>Low Value</td>\n",
       "      <td>Low Value</td>\n",
       "    </tr>\n",
       "    <tr>\n",
       "      <th>6366</th>\n",
       "      <td>8206</td>\n",
       "      <td>2016-11-08</td>\n",
       "      <td>Same Day</td>\n",
       "      <td>Владивосток</td>\n",
       "      <td>Chairs</td>\n",
       "      <td>24271.600</td>\n",
       "      <td>Medium-High Value</td>\n",
       "      <td>Medium-High Value</td>\n",
       "    </tr>\n",
       "    <tr>\n",
       "      <th>9150</th>\n",
       "      <td>5736</td>\n",
       "      <td>2015-06-29</td>\n",
       "      <td>Стандарт</td>\n",
       "      <td>Владивосток</td>\n",
       "      <td>Binders</td>\n",
       "      <td>5727.898</td>\n",
       "      <td>Low Value</td>\n",
       "      <td>Low Value</td>\n",
       "    </tr>\n",
       "  </tbody>\n",
       "</table>\n",
       "</div>"
      ],
      "text/plain": [
       "Название столбца    id order_date     class       region sub_category  \\\n",
       "2406              6907 2018-05-20  Same Day         Урал      Binders   \n",
       "6366              8206 2016-11-08  Same Day  Владивосток       Chairs   \n",
       "9150              5736 2015-06-29  Стандарт  Владивосток      Binders   \n",
       "\n",
       "Название столбца      sales     order_category         sale_group  \n",
       "2406              10437.660          Low Value          Low Value  \n",
       "6366              24271.600  Medium-High Value  Medium-High Value  \n",
       "9150               5727.898          Low Value          Low Value  "
      ]
     },
     "execution_count": 238,
     "metadata": {},
     "output_type": "execute_result"
    }
   ],
   "source": [
    "df.sample(3)"
   ]
  },
  {
   "cell_type": "markdown",
   "id": "8e56ec7b",
   "metadata": {},
   "source": [
    "Получено 4 группы с одинаковым количеством наблюдений "
   ]
  },
  {
   "cell_type": "markdown",
   "id": "7a5208f4",
   "metadata": {},
   "source": [
    "##### Сгруппировать данные на основе региона и группы продаж (Region, Sale_group). Определить основные тенденции и паттерны. Выделить наиболее «прибыльную» группу"
   ]
  },
  {
   "cell_type": "code",
   "execution_count": 258,
   "id": "ea4cbcf7",
   "metadata": {
    "scrolled": true
   },
   "outputs": [
    {
     "data": {
      "text/html": [
       "<div>\n",
       "<style scoped>\n",
       "    .dataframe tbody tr th:only-of-type {\n",
       "        vertical-align: middle;\n",
       "    }\n",
       "\n",
       "    .dataframe tbody tr th {\n",
       "        vertical-align: top;\n",
       "    }\n",
       "\n",
       "    .dataframe thead th {\n",
       "        text-align: right;\n",
       "    }\n",
       "</style>\n",
       "<table border=\"1\" class=\"dataframe\">\n",
       "  <thead>\n",
       "    <tr style=\"text-align: right;\">\n",
       "      <th></th>\n",
       "      <th>Название столбца</th>\n",
       "      <th>order_num</th>\n",
       "      <th>sales</th>\n",
       "    </tr>\n",
       "    <tr>\n",
       "      <th>region</th>\n",
       "      <th>sale_group</th>\n",
       "      <th></th>\n",
       "      <th></th>\n",
       "    </tr>\n",
       "  </thead>\n",
       "  <tbody>\n",
       "    <tr>\n",
       "      <th>Калиниград</th>\n",
       "      <th>High Value</th>\n",
       "      <td>756</td>\n",
       "      <td>2.981133e+07</td>\n",
       "    </tr>\n",
       "    <tr>\n",
       "      <th>Владивосток</th>\n",
       "      <th>High Value</th>\n",
       "      <td>718</td>\n",
       "      <td>2.823214e+07</td>\n",
       "    </tr>\n",
       "    <tr>\n",
       "      <th>Калиниград</th>\n",
       "      <th>Medium-High Value</th>\n",
       "      <td>807</td>\n",
       "      <td>2.280716e+07</td>\n",
       "    </tr>\n",
       "    <tr>\n",
       "      <th>Урал</th>\n",
       "      <th>High Value</th>\n",
       "      <td>559</td>\n",
       "      <td>2.194230e+07</td>\n",
       "    </tr>\n",
       "    <tr>\n",
       "      <th>Владивосток</th>\n",
       "      <th>Medium-High Value</th>\n",
       "      <td>683</td>\n",
       "      <td>1.939682e+07</td>\n",
       "    </tr>\n",
       "    <tr>\n",
       "      <th>Москва</th>\n",
       "      <th>High Value</th>\n",
       "      <td>417</td>\n",
       "      <td>1.633080e+07</td>\n",
       "    </tr>\n",
       "    <tr>\n",
       "      <th>Урал</th>\n",
       "      <th>Medium-High Value</th>\n",
       "      <td>559</td>\n",
       "      <td>1.587757e+07</td>\n",
       "    </tr>\n",
       "    <tr>\n",
       "      <th>Калиниград</th>\n",
       "      <th>Medium-Low Value</th>\n",
       "      <td>814</td>\n",
       "      <td>1.424274e+07</td>\n",
       "    </tr>\n",
       "    <tr>\n",
       "      <th>Владивосток</th>\n",
       "      <th>Medium-Low Value</th>\n",
       "      <td>669</td>\n",
       "      <td>1.168082e+07</td>\n",
       "    </tr>\n",
       "    <tr>\n",
       "      <th>Москва</th>\n",
       "      <th>Medium-High Value</th>\n",
       "      <td>401</td>\n",
       "      <td>1.126251e+07</td>\n",
       "    </tr>\n",
       "    <tr>\n",
       "      <th>Урал</th>\n",
       "      <th>Medium-Low Value</th>\n",
       "      <td>579</td>\n",
       "      <td>1.018927e+07</td>\n",
       "    </tr>\n",
       "    <tr>\n",
       "      <th>Москва</th>\n",
       "      <th>Medium-Low Value</th>\n",
       "      <td>388</td>\n",
       "      <td>6.770018e+06</td>\n",
       "    </tr>\n",
       "    <tr>\n",
       "      <th>Калиниград</th>\n",
       "      <th>Low Value</th>\n",
       "      <td>763</td>\n",
       "      <td>5.069059e+06</td>\n",
       "    </tr>\n",
       "    <tr>\n",
       "      <th>Владивосток</th>\n",
       "      <th>Low Value</th>\n",
       "      <td>715</td>\n",
       "      <td>4.642905e+06</td>\n",
       "    </tr>\n",
       "    <tr>\n",
       "      <th>Урал</th>\n",
       "      <th>Low Value</th>\n",
       "      <td>580</td>\n",
       "      <td>3.849450e+06</td>\n",
       "    </tr>\n",
       "    <tr>\n",
       "      <th>Москва</th>\n",
       "      <th>Low Value</th>\n",
       "      <td>392</td>\n",
       "      <td>2.528322e+06</td>\n",
       "    </tr>\n",
       "  </tbody>\n",
       "</table>\n",
       "</div>"
      ],
      "text/plain": [
       "Название столбца               order_num         sales\n",
       "region      sale_group                                \n",
       "Калиниград  High Value               756  2.981133e+07\n",
       "Владивосток High Value               718  2.823214e+07\n",
       "Калиниград  Medium-High Value        807  2.280716e+07\n",
       "Урал        High Value               559  2.194230e+07\n",
       "Владивосток Medium-High Value        683  1.939682e+07\n",
       "Москва      High Value               417  1.633080e+07\n",
       "Урал        Medium-High Value        559  1.587757e+07\n",
       "Калиниград  Medium-Low Value         814  1.424274e+07\n",
       "Владивосток Medium-Low Value         669  1.168082e+07\n",
       "Москва      Medium-High Value        401  1.126251e+07\n",
       "Урал        Medium-Low Value         579  1.018927e+07\n",
       "Москва      Medium-Low Value         388  6.770018e+06\n",
       "Калиниград  Low Value                763  5.069059e+06\n",
       "Владивосток Low Value                715  4.642905e+06\n",
       "Урал        Low Value                580  3.849450e+06\n",
       "Москва      Low Value                392  2.528322e+06"
      ]
     },
     "execution_count": 258,
     "metadata": {},
     "output_type": "execute_result"
    }
   ],
   "source": [
    "df_benefit = df \\\n",
    "          .groupby(['region', 'sale_group'], observed=True)\\\n",
    "          .agg({'order_date': 'count', 'sales': 'sum'})\\\n",
    "          .sort_values('sales',ascending = False)\\\n",
    "          .rename(columns = {'order_date':'order_num'})\n",
    "\n",
    "df_benefit"
   ]
  },
  {
   "cell_type": "code",
   "execution_count": 259,
   "id": "a469fe8b",
   "metadata": {},
   "outputs": [],
   "source": [
    "df_benefit['avg_order_amount'] = df_benefit['sales'] / df_benefit['order_num']"
   ]
  },
  {
   "cell_type": "code",
   "execution_count": 260,
   "id": "00f13a9b",
   "metadata": {
    "scrolled": true
   },
   "outputs": [
    {
     "data": {
      "text/html": [
       "<div>\n",
       "<style scoped>\n",
       "    .dataframe tbody tr th:only-of-type {\n",
       "        vertical-align: middle;\n",
       "    }\n",
       "\n",
       "    .dataframe tbody tr th {\n",
       "        vertical-align: top;\n",
       "    }\n",
       "\n",
       "    .dataframe thead th {\n",
       "        text-align: right;\n",
       "    }\n",
       "</style>\n",
       "<table border=\"1\" class=\"dataframe\">\n",
       "  <thead>\n",
       "    <tr style=\"text-align: right;\">\n",
       "      <th></th>\n",
       "      <th>Название столбца</th>\n",
       "      <th>order_num</th>\n",
       "      <th>sales</th>\n",
       "      <th>avg_order_amount</th>\n",
       "    </tr>\n",
       "    <tr>\n",
       "      <th>region</th>\n",
       "      <th>sale_group</th>\n",
       "      <th></th>\n",
       "      <th></th>\n",
       "      <th></th>\n",
       "    </tr>\n",
       "  </thead>\n",
       "  <tbody>\n",
       "    <tr>\n",
       "      <th>Калиниград</th>\n",
       "      <th>High Value</th>\n",
       "      <td>756</td>\n",
       "      <td>2.981133e+07</td>\n",
       "      <td>39432.981997</td>\n",
       "    </tr>\n",
       "    <tr>\n",
       "      <th>Владивосток</th>\n",
       "      <th>High Value</th>\n",
       "      <td>718</td>\n",
       "      <td>2.823214e+07</td>\n",
       "      <td>39320.533162</td>\n",
       "    </tr>\n",
       "    <tr>\n",
       "      <th>Урал</th>\n",
       "      <th>High Value</th>\n",
       "      <td>559</td>\n",
       "      <td>2.194230e+07</td>\n",
       "      <td>39252.768730</td>\n",
       "    </tr>\n",
       "    <tr>\n",
       "      <th>Москва</th>\n",
       "      <th>High Value</th>\n",
       "      <td>417</td>\n",
       "      <td>1.633080e+07</td>\n",
       "      <td>39162.600288</td>\n",
       "    </tr>\n",
       "    <tr>\n",
       "      <th>Урал</th>\n",
       "      <th>Medium-High Value</th>\n",
       "      <td>559</td>\n",
       "      <td>1.587757e+07</td>\n",
       "      <td>28403.531574</td>\n",
       "    </tr>\n",
       "    <tr>\n",
       "      <th>Владивосток</th>\n",
       "      <th>Medium-High Value</th>\n",
       "      <td>683</td>\n",
       "      <td>1.939682e+07</td>\n",
       "      <td>28399.437906</td>\n",
       "    </tr>\n",
       "    <tr>\n",
       "      <th>Калиниград</th>\n",
       "      <th>Medium-High Value</th>\n",
       "      <td>807</td>\n",
       "      <td>2.280716e+07</td>\n",
       "      <td>28261.664498</td>\n",
       "    </tr>\n",
       "    <tr>\n",
       "      <th>Москва</th>\n",
       "      <th>Medium-High Value</th>\n",
       "      <td>401</td>\n",
       "      <td>1.126251e+07</td>\n",
       "      <td>28086.052120</td>\n",
       "    </tr>\n",
       "    <tr>\n",
       "      <th>Урал</th>\n",
       "      <th>Medium-Low Value</th>\n",
       "      <td>579</td>\n",
       "      <td>1.018927e+07</td>\n",
       "      <td>17598.040708</td>\n",
       "    </tr>\n",
       "    <tr>\n",
       "      <th>Калиниград</th>\n",
       "      <th>Medium-Low Value</th>\n",
       "      <td>814</td>\n",
       "      <td>1.424274e+07</td>\n",
       "      <td>17497.227408</td>\n",
       "    </tr>\n",
       "    <tr>\n",
       "      <th>Владивосток</th>\n",
       "      <th>Medium-Low Value</th>\n",
       "      <td>669</td>\n",
       "      <td>1.168082e+07</td>\n",
       "      <td>17460.123871</td>\n",
       "    </tr>\n",
       "    <tr>\n",
       "      <th>Москва</th>\n",
       "      <th>Medium-Low Value</th>\n",
       "      <td>388</td>\n",
       "      <td>6.770018e+06</td>\n",
       "      <td>17448.501108</td>\n",
       "    </tr>\n",
       "    <tr>\n",
       "      <th>Калиниград</th>\n",
       "      <th>Low Value</th>\n",
       "      <td>763</td>\n",
       "      <td>5.069059e+06</td>\n",
       "      <td>6643.589742</td>\n",
       "    </tr>\n",
       "    <tr>\n",
       "      <th>Урал</th>\n",
       "      <th>Low Value</th>\n",
       "      <td>580</td>\n",
       "      <td>3.849450e+06</td>\n",
       "      <td>6636.983200</td>\n",
       "    </tr>\n",
       "    <tr>\n",
       "      <th>Владивосток</th>\n",
       "      <th>Low Value</th>\n",
       "      <td>715</td>\n",
       "      <td>4.642905e+06</td>\n",
       "      <td>6493.573587</td>\n",
       "    </tr>\n",
       "    <tr>\n",
       "      <th>Москва</th>\n",
       "      <th>Low Value</th>\n",
       "      <td>392</td>\n",
       "      <td>2.528322e+06</td>\n",
       "      <td>6449.800673</td>\n",
       "    </tr>\n",
       "  </tbody>\n",
       "</table>\n",
       "</div>"
      ],
      "text/plain": [
       "Название столбца               order_num         sales  avg_order_amount\n",
       "region      sale_group                                                  \n",
       "Калиниград  High Value               756  2.981133e+07      39432.981997\n",
       "Владивосток High Value               718  2.823214e+07      39320.533162\n",
       "Урал        High Value               559  2.194230e+07      39252.768730\n",
       "Москва      High Value               417  1.633080e+07      39162.600288\n",
       "Урал        Medium-High Value        559  1.587757e+07      28403.531574\n",
       "Владивосток Medium-High Value        683  1.939682e+07      28399.437906\n",
       "Калиниград  Medium-High Value        807  2.280716e+07      28261.664498\n",
       "Москва      Medium-High Value        401  1.126251e+07      28086.052120\n",
       "Урал        Medium-Low Value         579  1.018927e+07      17598.040708\n",
       "Калиниград  Medium-Low Value         814  1.424274e+07      17497.227408\n",
       "Владивосток Medium-Low Value         669  1.168082e+07      17460.123871\n",
       "Москва      Medium-Low Value         388  6.770018e+06      17448.501108\n",
       "Калиниград  Low Value                763  5.069059e+06       6643.589742\n",
       "Урал        Low Value                580  3.849450e+06       6636.983200\n",
       "Владивосток Low Value                715  4.642905e+06       6493.573587\n",
       "Москва      Low Value                392  2.528322e+06       6449.800673"
      ]
     },
     "execution_count": 260,
     "metadata": {},
     "output_type": "execute_result"
    }
   ],
   "source": [
    "df_benefit.sort_values('avg_order_amount',ascending = False,)"
   ]
  },
  {
   "cell_type": "markdown",
   "id": "c1b1de22",
   "metadata": {},
   "source": [
    "Регионом с самой высокой средней суммой заказа являются Калининград\n",
    "Самые недорогие заказы делают покупатели из москвы.\n",
    "Урал и Москва делают меньшее число заказов, но с более высокими суммами, чем Калининград и Владивосток"
   ]
  },
  {
   "cell_type": "code",
   "execution_count": 278,
   "id": "826e07bc",
   "metadata": {
    "scrolled": true
   },
   "outputs": [
    {
     "data": {
      "image/png": "[encoded data removed]",
      "text/plain": [
       "<Figure size 1200x600 with 1 Axes>"
      ]
     },
     "metadata": {},
     "output_type": "display_data"
    }
   ],
   "source": [
    "plt.figure(figsize=(12, 6))\n",
    "sns.barplot(data=df_benefit, x='region', y='order_num', hue='sale_group', palette='viridis')\n",
    "\n",
    "plt.title('Столбчатая диаграмма по количество заказов в разных регионах по ценовому сегменту заказа')\n",
    "plt.xlabel('Регион')\n",
    "plt.ylabel('Число заказов')\n",
    "plt.ylim(350,900)\n",
    "\n",
    "plt.tight_layout()\n",
    "plt.show()"
   ]
  },
  {
   "cell_type": "markdown",
   "id": "bffbd54d",
   "metadata": {},
   "source": [
    "На данной столбчатой диаграмме отображено количество заказов по регионам\n",
    "- У Москвы меньше всего заказов, у Калининграда - больше всего\n",
    "- Во Владивостоке и Москве больше всего заказов сделано в категории \"высокая стоимость заказа\"\n",
    "- В Калининграде преимущественно делаются заказы средней ценовой категории, а Во Владивостоке - низкой и высокой стоимости.\n",
    "- На Урале цисло заказов разных ценовых категорий практически одинаковые"
   ]
  },
  {
   "cell_type": "code",
   "execution_count": 290,
   "id": "5a457e34",
   "metadata": {},
   "outputs": [
    {
     "data": {
      "image/png": "[encoded data removed]",
      "text/plain": [
       "<Figure size 800x800 with 1 Axes>"
      ]
     },
     "metadata": {},
     "output_type": "display_data"
    }
   ],
   "source": [
    "sales_by_group = df_benefit.groupby('sale_group', observed=True)['sales'].sum()\n",
    "\n",
    "\n",
    "# Построение круговой диаграммы\n",
    "plt.figure(figsize=(8, 8))\n",
    "colors = sns.color_palette('pastel')  # Использование пастельной палитры из Seaborn\n",
    "plt.pie(sales_by_group, labels=sales_by_group.index, autopct='%1.1f%%', colors=colors,wedgeprops={'lw':1, 'ls':'--','edgecolor':\"k\"})\n",
    "plt.title('Распределение суммарных продаж по группам')\n",
    "\n",
    "# Показать график\n",
    "plt.show()"
   ]
  },
  {
   "cell_type": "markdown",
   "id": "60aab5b4",
   "metadata": {},
   "source": [
    "На данной круговой диаграмме визуализируется, что \n",
    "- 43% прибыли исходит от заказов высокой стоимости\n",
    "- 31% - средне-высокой стоимости\n",
    "- 7% - низкой\n",
    "- 19% средне-низкой"
   ]
  },
  {
   "cell_type": "markdown",
   "id": "10450a94",
   "metadata": {},
   "source": [
    "##### Проверка"
   ]
  },
  {
   "cell_type": "code",
   "execution_count": 291,
   "id": "4a6ae24e",
   "metadata": {},
   "outputs": [
    {
     "name": "stdout",
     "output_type": "stream",
     "text": [
      "Ок, нет потерь данных\n"
     ]
    }
   ],
   "source": [
    "if df['sales'].sum() == df_benefit['sales'].sum():\n",
    "    print('Ок, нет потерь данных')\n",
    "else:\n",
    "    print('Error')"
   ]
  },
  {
   "cell_type": "markdown",
   "id": "b0d8393e",
   "metadata": {},
   "source": [
    "#### Финальный вывод по тестовому заданию"
   ]
  },
  {
   "cell_type": "markdown",
   "id": "bc83b970",
   "metadata": {},
   "source": [
    "<div style=\"border:solid Purple 2px; padding: 40px\">\n",
    "\n",
    "- Был произведен онбординг с датасетом при помощи универсальный функции, которая выводит первые 5 строк таблицы, количество пропусков, дубликатов, информацию о размере, а так же о типе данных столбцов.\n",
    "    \n",
    "- Выполнена преобработка данных с приведением столбцво в змеиный регистр, корректировкой типов данных некоторых столбцов, перепроверкой на наличие явных и неявных дубликатов\n",
    "    \n",
    "- Найден ответ на первое задание- определены подкатегории товаров, которые покупали максимально часто за все время, за последние 2 года от исследуемых данных и за последний год. Во всех 3 временных интервалах субкатегории 'Binders', 'Paper', 'Furnishings', 'Phones', 'Storage' обладали наивысшим количеством заказов. Визуализация с помощью хитмэпа\n",
    "    \n",
    "- Построена визуализация (диаграмма размаха). На ней отображено - медианное значение суммы заказа является 22882 руб, межквартильный размах составляет от 12135 до 33730 руб - диапазон наиболее частовстречающихся сумм заказов , с которыми были совершены наибольшее число заказов, максимальная сумма заказа составила 44995 руб, с минимальная - 1002 руб, аномальных значений не обнаружено\n",
    "    \n",
    "- Проведена перепроверка данных на нормальность методом describe, построением диаграммы размаха (с отсутствием выбросов) и правилом 3 сигм с нахождением диапазона \"нормальности\"\n",
    "    \n",
    "- Из-за отсутсвтия аномалий данных было принято решения сегментации данных по величине суммы заказа по перцентилям. В итоге выделено 4 группы: с низкой, средней, средне-высокой и высокой стоимостью. В каждую группу вошло 2450 наблюдений.\n",
    "    \n",
    "- Произведена группировка по региону и ценовому сегменту заказа и сортировка по величине суммы заказа. Далее в исследуемый датафрейм добавлен столбец со средней суммой заказа и выделены следующие паттерны: регионами с самой высокой средней суммой заказа является Калининград. Урал и Москва делают меньшее число заказов, но с более высокими суммами, чем Калининград и Владивосток. Именно заказы из Владивостока и калининграда являются наиболее прибыльными для компании.\n",
    "\n",
    "- На столбчатой диаграме отмечается, что больше всего заказов делает калининград и относятся он с категории средне-низкой и средне-высокой стоимости, Москва делает меньшего всего общее количество заказов, но там наибольший процент заказов высокой стоимости\n",
    "    \n",
    "-43% прибыли исходит от заказов высокой стоимости, 31% - средне-высокой стоимости, 7% - низкой, 19% средне-низкой\n",
    "\n",
    "\n",
    "- Возможно, стоит провести определенные маркетинговые акции для привлечения клиентов именно из регионов Урал и Москва для повышения количества заказов, которые на основании исследуемых данных являются самыми крупными и приносят максимальное количество прибыли\n",
    "\n",
    "- Возможно, при увеличении затрат на рекламные инвестиции в Урале и Москве получится увеличить количество заказов за счет привлечения новых пользователей или расширения аудитории покупателей \n",
    "\n",
    "- А в калиниграде и Владивостоке необходимо стимулировать клиентов на совершение более дорогих заказов за счет проведения маркетинговых кампаний\n",
    "</div>\n"
   ]
  }
 ],
 "metadata": {
  "kernelspec": {
   "display_name": "Python 3 (ipykernel)",
   "language": "python",
   "name": "python3"
  },
  "language_info": {
   "codemirror_mode": {
    "name": "ipython",
    "version": 3
   },
   "file_extension": ".py",
   "mimetype": "text/x-python",
   "name": "python",
   "nbconvert_exporter": "python",
   "pygments_lexer": "ipython3",
   "version": "3.9.19"
  }
 },
 "nbformat": 4,
 "nbformat_minor": 5
}
